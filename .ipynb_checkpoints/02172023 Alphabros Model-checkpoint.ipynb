{
 "cells": [
  {
   "cell_type": "markdown",
   "metadata": {},
   "source": [
    "## Outline\n",
    "* Data Collection\n",
    " * Get tickers of the historical constituents of S&P500\n",
    " * Get as much historical financial fundamentals data as possible, for as many constituents as possible, from Tiingo\n",
    " * Get historical pricing data, for as many constituents as possible, from Tiingo\n",
    " * Get industry factors / calculate betas, using edhec module\n",
    " * Potentially include calculated DCF value\n",
    " * Get macro data: historical interest rates (10 year treasury), yield inversion data, recession dummy variable, unemployment, GDP, CPI, price of gold, price of platinum, price of copper, what else?\n",
    " * For future: possible social media scraping for sentiment / volume, earnings transcripts, 10K verbage\n",
    "* Data Cleaning\n",
    " * Determine good tabular data structure\n",
    "* Feature Selection\n",
    " * TBD\n",
    "* Training and backtesting the random forest regressor\n",
    " * TBD\n"
   ]
  },
  {
   "cell_type": "code",
   "execution_count": null,
   "metadata": {},
   "outputs": [],
   "source": [
    "## initialize packages\n",
    "\n",
    "import pandas as pd\n",
    "import numpy as np\n",
    "import edhec_risk_kit_206 as erk\n",
    "import random\n",
    "import statsmodels.api as sm\n",
    "from dateutil.relativedelta import relativedelta\n",
    "import config\n",
    "import requests\n",
    "\n",
    "%load_ext autoreload\n",
    "%autoreload 2"
   ]
  },
  {
   "cell_type": "code",
   "execution_count": 21,
   "metadata": {},
   "outputs": [],
   "source": [
    "## set up Tiingo\n",
    "from tiingo import TiingoClient\n",
    "# Set TIINGO_API_KEY in your environment variables in your .bash_profile, OR\n",
    "# pass a dictionary with 'api_key' as a key into the TiingoClient.\n",
    "\n",
    "TIINGO_API_KEY = config.TIINGO_API_KEY\n",
    "\n",
    "tiingo_config = {\n",
    "    'api_key': TIINGO_API_KEY,\n",
    "    'session': True # Reuse HTTP sessions across API calls for better performance\n",
    "}\n",
    "\n",
    "# To reuse the same HTTP Session across API calls (and have better performance), include a session key.\n",
    "tiingo_config['session'] = True\n",
    "\n",
    "\n",
    "# Initialize\n",
    "client = TiingoClient(tiingo_config)"
   ]
  },
  {
   "cell_type": "markdown",
   "metadata": {},
   "source": [
    "# Data Collection"
   ]
  },
  {
   "cell_type": "code",
   "execution_count": 39,
   "metadata": {},
   "outputs": [],
   "source": [
    "#testing NFLX\n",
    "ticker = 'NFLX'"
   ]
  },
  {
   "cell_type": "code",
   "execution_count": 40,
   "metadata": {},
   "outputs": [],
   "source": [
    "\n",
    "headers = {\n",
    "    'Content-Type': 'application/json'\n",
    "}\n",
    "requestResponse = requests.get(\"https://api.tiingo.com/tiingo/fundamentals/\" + ticker + \"/statements?token=be94126b962ace900d3cb08bfb01a1ec2f98ca3d\", headers=headers)\n",
    "requestResponse2 = requests.get(\"https://api.tiingo.com/tiingo/daily/\" + ticker + \"/prices?token=be94126b962ace900d3cb08bfb01a1ec2f98ca3d\", headers=headers)\n"
   ]
  },
  {
   "cell_type": "code",
   "execution_count": null,
   "metadata": {},
   "outputs": [],
   "source": []
  },
  {
   "cell_type": "code",
   "execution_count": 41,
   "metadata": {},
   "outputs": [],
   "source": [
    "latest_price = requestResponse2.json()[0]['adjClose']"
   ]
  },
  {
   "cell_type": "code",
   "execution_count": 42,
   "metadata": {},
   "outputs": [
    {
     "data": {
      "text/plain": [
       "347.96"
      ]
     },
     "execution_count": 42,
     "metadata": {},
     "output_type": "execute_result"
    }
   ],
   "source": [
    "latest_price"
   ]
  },
  {
   "cell_type": "code",
   "execution_count": 33,
   "metadata": {},
   "outputs": [],
   "source": [
    "stock = requestResponse.json()"
   ]
  },
  {
   "cell_type": "code",
   "execution_count": 43,
   "metadata": {},
   "outputs": [
    {
     "data": {
      "text/plain": [
       "{'date': '2022-12-31',\n",
       " 'year': 2022,\n",
       " 'quarter': 4,\n",
       " 'statementData': {'incomeStatement': [{'dataCode': 'ebitda',\n",
       "    'value': 4248153000.0},\n",
       "   {'dataCode': 'netIncComStock', 'value': 55284000.0},\n",
       "   {'dataCode': 'epsDil', 'value': 0.12},\n",
       "   {'dataCode': 'consolidatedIncome', 'value': 55284000.0},\n",
       "   {'dataCode': 'nonControllingInterests', 'value': 0.0},\n",
       "   {'dataCode': 'shareswaDil', 'value': 451656000.0},\n",
       "   {'dataCode': 'intexp', 'value': 170603000.0},\n",
       "   {'dataCode': 'rnd', 'value': 673926000.0},\n",
       "   {'dataCode': 'eps', 'value': 0.12},\n",
       "   {'dataCode': 'netIncDiscOps', 'value': 0.0},\n",
       "   {'dataCode': 'grossProfit', 'value': 2447893000.0},\n",
       "   {'dataCode': 'shareswa', 'value': 445205000.0},\n",
       "   {'dataCode': 'opex', 'value': 1897989000.0},\n",
       "   {'dataCode': 'ebt', 'value': 39336000.0},\n",
       "   {'dataCode': 'netinc', 'value': 55284000.0},\n",
       "   {'dataCode': 'revenue', 'value': 7852053000.0},\n",
       "   {'dataCode': 'ebit', 'value': 209939000.0},\n",
       "   {'dataCode': 'taxExp', 'value': -15948000.0},\n",
       "   {'dataCode': 'opinc', 'value': 549904000.0},\n",
       "   {'dataCode': 'sga', 'value': 1224063000.0},\n",
       "   {'dataCode': 'costRev', 'value': 5404160000.0},\n",
       "   {'dataCode': 'prefDVDs', 'value': 0.0}],\n",
       "  'balanceSheet': [{'dataCode': 'debtCurrent', 'value': 0.0},\n",
       "   {'dataCode': 'taxAssets', 'value': 0.0},\n",
       "   {'dataCode': 'investmentsCurrent', 'value': 911276000.0},\n",
       "   {'dataCode': 'totalAssets', 'value': 48594768000.0},\n",
       "   {'dataCode': 'acctPay', 'value': 5151663000.0},\n",
       "   {'dataCode': 'accoci', 'value': -217306000.0},\n",
       "   {'dataCode': 'inventory', 'value': 0.0},\n",
       "   {'dataCode': 'totalLiabilities', 'value': 27817367000.0},\n",
       "   {'dataCode': 'acctRec', 'value': 0.0},\n",
       "   {'dataCode': 'intangibles', 'value': 32736713000.0},\n",
       "   {'dataCode': 'ppeq', 'value': 1398257000.0},\n",
       "   {'dataCode': 'deferredRev', 'value': 1264661000.0},\n",
       "   {'dataCode': 'cashAndEq', 'value': 5147176000.0},\n",
       "   {'dataCode': 'assetsNonCurrent', 'value': 39328295000.0},\n",
       "   {'dataCode': 'taxLiabilities', 'value': 0.0},\n",
       "   {'dataCode': 'investments', 'value': 911276000.0},\n",
       "   {'dataCode': 'equity', 'value': 20777401000.0},\n",
       "   {'dataCode': 'retainedEarnings', 'value': 17181296000.0},\n",
       "   {'dataCode': 'deposits', 'value': 0.0},\n",
       "   {'dataCode': 'assetsCurrent', 'value': 9266473000.0},\n",
       "   {'dataCode': 'investmentsNonCurrent', 'value': 0.0},\n",
       "   {'dataCode': 'debt', 'value': 14353076000.0},\n",
       "   {'dataCode': 'debtNonCurrent', 'value': 14353076000.0},\n",
       "   {'dataCode': 'liabilitiesNonCurrent', 'value': 19886393000.0},\n",
       "   {'dataCode': 'liabilitiesCurrent', 'value': 7930974000.0},\n",
       "   {'dataCode': 'sharesBasic', 'value': 445020494.0}],\n",
       "  'cashFlow': [{'dataCode': 'ncfi', 'value': -1586859000.0},\n",
       "   {'dataCode': 'capex', 'value': -111593000.0},\n",
       "   {'dataCode': 'ncfx', 'value': 166564000.0},\n",
       "   {'dataCode': 'ncff', 'value': 6705000.0},\n",
       "   {'dataCode': 'sbcomp', 'value': 153789000.0},\n",
       "   {'dataCode': 'ncf', 'value': -969732000.0},\n",
       "   {'dataCode': 'payDiv', 'value': 0.0},\n",
       "   {'dataCode': 'businessAcqDisposals', 'value': -563990000.0},\n",
       "   {'dataCode': 'issrepayDebt', 'value': 0.0},\n",
       "   {'dataCode': 'issrepayEquity', 'value': 6705000.0},\n",
       "   {'dataCode': 'investmentsAcqDisposals', 'value': -911276000.0},\n",
       "   {'dataCode': 'freeCashFlow', 'value': 332265000.0},\n",
       "   {'dataCode': 'ncfo', 'value': 443858000.0},\n",
       "   {'dataCode': 'depamor', 'value': 4038214000.0}],\n",
       "  'overview': [{'dataCode': 'longTermDebtEquity', 'value': 0.690802280804996},\n",
       "   {'dataCode': 'shareFactor', 'value': 1.0},\n",
       "   {'dataCode': 'bookVal', 'value': 20777401000.0},\n",
       "   {'dataCode': 'roa', 'value': 0.0956548730822878},\n",
       "   {'dataCode': 'currentRatio', 'value': 1.16839028850681},\n",
       "   {'dataCode': 'roe', 'value': 0.230575143160674},\n",
       "   {'dataCode': 'grossMargin', 'value': 0.311751971108702},\n",
       "   {'dataCode': 'piotroskiFScore', 'value': 5.0},\n",
       "   {'dataCode': 'epsQoQ', 'value': -0.912408759124088},\n",
       "   {'dataCode': 'revenueQoQ', 'value': 0.0185146079069511},\n",
       "   {'dataCode': 'profitMargin', 'value': 0.311751971108702},\n",
       "   {'dataCode': 'rps', 'value': 17.6442503342329},\n",
       "   {'dataCode': 'bvps', 'value': 46.6886385686319}]}}"
      ]
     },
     "execution_count": 43,
     "metadata": {},
     "output_type": "execute_result"
    }
   ],
   "source": [
    "# getting most recent fundamentals data\n",
    "stock[0]"
   ]
  },
  {
   "cell_type": "markdown",
   "metadata": {},
   "source": [
    "# Data Cleaning"
   ]
  },
  {
   "cell_type": "markdown",
   "metadata": {},
   "source": [
    "# Feature Selection"
   ]
  },
  {
   "cell_type": "markdown",
   "metadata": {},
   "source": [
    "# Training and backtesting the random forest regressor"
   ]
  },
  {
   "cell_type": "code",
   "execution_count": null,
   "metadata": {},
   "outputs": [],
   "source": []
  }
 ],
 "metadata": {
  "kernelspec": {
   "display_name": "Python 3",
   "language": "python",
   "name": "python3"
  },
  "language_info": {
   "codemirror_mode": {
    "name": "ipython",
    "version": 3
   },
   "file_extension": ".py",
   "mimetype": "text/x-python",
   "name": "python",
   "nbconvert_exporter": "python",
   "pygments_lexer": "ipython3",
   "version": "3.8.3"
  }
 },
 "nbformat": 4,
 "nbformat_minor": 4
}
