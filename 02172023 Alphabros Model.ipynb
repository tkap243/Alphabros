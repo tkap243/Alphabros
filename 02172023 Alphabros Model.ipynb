{
 "cells": [
  {
   "cell_type": "code",
   "execution_count": 12,
   "metadata": {},
   "outputs": [
    {
     "name": "stdout",
     "output_type": "stream",
     "text": [
      "The autoreload extension is already loaded. To reload it, use:\n",
      "  %reload_ext autoreload\n"
     ]
    }
   ],
   "source": [
    "import pandas as pd\n",
    "import numpy as np\n",
    "import edhec_risk_kit_206 as erk\n",
    "import random\n",
    "import statsmodels.api as sm\n",
    "from dateutil.relativedelta import relativedelta\n",
    "import config\n",
    "import requests\n",
    "\n",
    "%load_ext autoreload\n",
    "%autoreload 2"
   ]
  },
  {
   "cell_type": "code",
   "execution_count": 11,
   "metadata": {},
   "outputs": [],
   "source": [
    "from tiingo import TiingoClient\n",
    "# Set TIINGO_API_KEY in your environment variables in your .bash_profile, OR\n",
    "# pass a dictionary with 'api_key' as a key into the TiingoClient.\n",
    "\n",
    "TIINGO_API_KEY = config.TIINGO_API_KEY\n",
    "\n",
    "tiingo_config = {\n",
    "    'api_key': TIINGO_API_KEY,\n",
    "    'session': True # Reuse HTTP sessions across API calls for better performance\n",
    "}\n",
    "\n",
    "# To reuse the same HTTP Session across API calls (and have better performance), include a session key.\n",
    "tiingo_config['session'] = True\n",
    "\n",
    "\n",
    "# Initialize\n",
    "client = TiingoClient(tiingo_config)"
   ]
  },
  {
   "cell_type": "code",
   "execution_count": 17,
   "metadata": {},
   "outputs": [],
   "source": [
    "\n",
    "headers = {\n",
    "    'Content-Type': 'application/json'\n",
    "}\n",
    "requestResponse = requests.get(\"https://api.tiingo.com/tiingo/fundamentals/definitions?token=be94126b962ace900d3cb08bfb01a1ec2f98ca3d\", headers=headers)\n",
    "requestResponse2 = requests.get(\"https://api.tiingo.com/tiingo/daily/\" + ticker + \"/prices?token=be94126b962ace900d3cb08bfb01a1ec2f98ca3d\", headers=headers)\n"
   ]
  },
  {
   "cell_type": "code",
   "execution_count": 18,
   "metadata": {},
   "outputs": [],
   "source": [
    "ticker = 'NFLX'"
   ]
  },
  {
   "cell_type": "code",
   "execution_count": 19,
   "metadata": {},
   "outputs": [],
   "source": [
    "latest_price = requestResponse2.json()[0]['adjClose']"
   ]
  },
  {
   "cell_type": "code",
   "execution_count": 20,
   "metadata": {},
   "outputs": [
    {
     "data": {
      "text/plain": [
       "347.96"
      ]
     },
     "execution_count": 20,
     "metadata": {},
     "output_type": "execute_result"
    }
   ],
   "source": [
    "latest_price"
   ]
  },
  {
   "cell_type": "code",
   "execution_count": 7,
   "metadata": {},
   "outputs": [
    {
     "name": "stdout",
     "output_type": "stream",
     "text": [
      "Hello World!\n"
     ]
    }
   ],
   "source": [
    "print(\"Hello World!\")"
   ]
  },
  {
   "cell_type": "code",
   "execution_count": 8,
   "metadata": {},
   "outputs": [],
   "source": [
    "fff = erk.get_fff5_returns()"
   ]
  },
  {
   "cell_type": "code",
   "execution_count": 9,
   "metadata": {},
   "outputs": [
    {
     "data": {
      "text/html": [
       "<div>\n",
       "<style scoped>\n",
       "    .dataframe tbody tr th:only-of-type {\n",
       "        vertical-align: middle;\n",
       "    }\n",
       "\n",
       "    .dataframe tbody tr th {\n",
       "        vertical-align: top;\n",
       "    }\n",
       "\n",
       "    .dataframe thead th {\n",
       "        text-align: right;\n",
       "    }\n",
       "</style>\n",
       "<table border=\"1\" class=\"dataframe\">\n",
       "  <thead>\n",
       "    <tr style=\"text-align: right;\">\n",
       "      <th></th>\n",
       "      <th>Mkt-RF</th>\n",
       "      <th>SMB</th>\n",
       "      <th>HML</th>\n",
       "      <th>RMW</th>\n",
       "      <th>CMA</th>\n",
       "      <th>RF</th>\n",
       "    </tr>\n",
       "  </thead>\n",
       "  <tbody>\n",
       "    <tr>\n",
       "      <th>1963-07</th>\n",
       "      <td>-0.0039</td>\n",
       "      <td>-0.0044</td>\n",
       "      <td>-0.0089</td>\n",
       "      <td>0.0068</td>\n",
       "      <td>-0.0123</td>\n",
       "      <td>0.0027</td>\n",
       "    </tr>\n",
       "    <tr>\n",
       "      <th>1963-08</th>\n",
       "      <td>0.0507</td>\n",
       "      <td>-0.0075</td>\n",
       "      <td>0.0168</td>\n",
       "      <td>0.0036</td>\n",
       "      <td>-0.0034</td>\n",
       "      <td>0.0025</td>\n",
       "    </tr>\n",
       "    <tr>\n",
       "      <th>1963-09</th>\n",
       "      <td>-0.0157</td>\n",
       "      <td>-0.0055</td>\n",
       "      <td>0.0008</td>\n",
       "      <td>-0.0071</td>\n",
       "      <td>0.0029</td>\n",
       "      <td>0.0027</td>\n",
       "    </tr>\n",
       "    <tr>\n",
       "      <th>1963-10</th>\n",
       "      <td>0.0253</td>\n",
       "      <td>-0.0137</td>\n",
       "      <td>-0.0014</td>\n",
       "      <td>0.0280</td>\n",
       "      <td>-0.0202</td>\n",
       "      <td>0.0029</td>\n",
       "    </tr>\n",
       "    <tr>\n",
       "      <th>1963-11</th>\n",
       "      <td>-0.0085</td>\n",
       "      <td>-0.0089</td>\n",
       "      <td>0.0181</td>\n",
       "      <td>-0.0051</td>\n",
       "      <td>0.0231</td>\n",
       "      <td>0.0027</td>\n",
       "    </tr>\n",
       "    <tr>\n",
       "      <th>...</th>\n",
       "      <td>...</td>\n",
       "      <td>...</td>\n",
       "      <td>...</td>\n",
       "      <td>...</td>\n",
       "      <td>...</td>\n",
       "      <td>...</td>\n",
       "    </tr>\n",
       "    <tr>\n",
       "      <th>2022-06</th>\n",
       "      <td>-0.0843</td>\n",
       "      <td>0.0130</td>\n",
       "      <td>-0.0597</td>\n",
       "      <td>0.0185</td>\n",
       "      <td>-0.0470</td>\n",
       "      <td>0.0006</td>\n",
       "    </tr>\n",
       "    <tr>\n",
       "      <th>2022-07</th>\n",
       "      <td>0.0957</td>\n",
       "      <td>0.0188</td>\n",
       "      <td>-0.0410</td>\n",
       "      <td>0.0068</td>\n",
       "      <td>-0.0694</td>\n",
       "      <td>0.0008</td>\n",
       "    </tr>\n",
       "    <tr>\n",
       "      <th>2022-08</th>\n",
       "      <td>-0.0377</td>\n",
       "      <td>0.0151</td>\n",
       "      <td>0.0031</td>\n",
       "      <td>-0.0479</td>\n",
       "      <td>0.0130</td>\n",
       "      <td>0.0019</td>\n",
       "    </tr>\n",
       "    <tr>\n",
       "      <th>2022-09</th>\n",
       "      <td>-0.0935</td>\n",
       "      <td>-0.0100</td>\n",
       "      <td>0.0003</td>\n",
       "      <td>-0.0149</td>\n",
       "      <td>-0.0085</td>\n",
       "      <td>0.0019</td>\n",
       "    </tr>\n",
       "    <tr>\n",
       "      <th>2022-10</th>\n",
       "      <td>0.0783</td>\n",
       "      <td>0.0187</td>\n",
       "      <td>0.0806</td>\n",
       "      <td>0.0306</td>\n",
       "      <td>0.0656</td>\n",
       "      <td>0.0023</td>\n",
       "    </tr>\n",
       "  </tbody>\n",
       "</table>\n",
       "<p>712 rows × 6 columns</p>\n",
       "</div>"
      ],
      "text/plain": [
       "         Mkt-RF     SMB     HML     RMW     CMA      RF\n",
       "1963-07 -0.0039 -0.0044 -0.0089  0.0068 -0.0123  0.0027\n",
       "1963-08  0.0507 -0.0075  0.0168  0.0036 -0.0034  0.0025\n",
       "1963-09 -0.0157 -0.0055  0.0008 -0.0071  0.0029  0.0027\n",
       "1963-10  0.0253 -0.0137 -0.0014  0.0280 -0.0202  0.0029\n",
       "1963-11 -0.0085 -0.0089  0.0181 -0.0051  0.0231  0.0027\n",
       "...         ...     ...     ...     ...     ...     ...\n",
       "2022-06 -0.0843  0.0130 -0.0597  0.0185 -0.0470  0.0006\n",
       "2022-07  0.0957  0.0188 -0.0410  0.0068 -0.0694  0.0008\n",
       "2022-08 -0.0377  0.0151  0.0031 -0.0479  0.0130  0.0019\n",
       "2022-09 -0.0935 -0.0100  0.0003 -0.0149 -0.0085  0.0019\n",
       "2022-10  0.0783  0.0187  0.0806  0.0306  0.0656  0.0023\n",
       "\n",
       "[712 rows x 6 columns]"
      ]
     },
     "execution_count": 9,
     "metadata": {},
     "output_type": "execute_result"
    }
   ],
   "source": [
    "fff"
   ]
  },
  {
   "cell_type": "code",
   "execution_count": null,
   "metadata": {},
   "outputs": [],
   "source": []
  }
 ],
 "metadata": {
  "kernelspec": {
   "display_name": "Python 3",
   "language": "python",
   "name": "python3"
  },
  "language_info": {
   "codemirror_mode": {
    "name": "ipython",
    "version": 3
   },
   "file_extension": ".py",
   "mimetype": "text/x-python",
   "name": "python",
   "nbconvert_exporter": "python",
   "pygments_lexer": "ipython3",
   "version": "3.8.3"
  }
 },
 "nbformat": 4,
 "nbformat_minor": 4
}
